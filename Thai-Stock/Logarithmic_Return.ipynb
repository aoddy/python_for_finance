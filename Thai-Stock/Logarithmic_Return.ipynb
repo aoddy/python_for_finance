{
 "cells": [
  {
   "cell_type": "code",
   "execution_count": 1,
   "metadata": {},
   "outputs": [],
   "source": [
    "import numpy as np\n",
    "from pandas_datareader import data as wb\n",
    "import matplotlib.pyplot as plt\n",
    "\n",
    "# ดึงข้อมูลจากเว็บ Yahoo #\n",
    "ST = wb.DataReader('CPALL.BK', data_source='yahoo', start='2007-1-1')"
   ]
  },
  {
   "cell_type": "code",
   "execution_count": 2,
   "metadata": {},
   "outputs": [
    {
     "data": {
      "text/html": [
       "<div>\n",
       "<style scoped>\n",
       "    .dataframe tbody tr th:only-of-type {\n",
       "        vertical-align: middle;\n",
       "    }\n",
       "\n",
       "    .dataframe tbody tr th {\n",
       "        vertical-align: top;\n",
       "    }\n",
       "\n",
       "    .dataframe thead th {\n",
       "        text-align: right;\n",
       "    }\n",
       "</style>\n",
       "<table border=\"1\" class=\"dataframe\">\n",
       "  <thead>\n",
       "    <tr style=\"text-align: right;\">\n",
       "      <th></th>\n",
       "      <th>High</th>\n",
       "      <th>Low</th>\n",
       "      <th>Open</th>\n",
       "      <th>Close</th>\n",
       "      <th>Volume</th>\n",
       "      <th>Adj Close</th>\n",
       "    </tr>\n",
       "    <tr>\n",
       "      <th>Date</th>\n",
       "      <th></th>\n",
       "      <th></th>\n",
       "      <th></th>\n",
       "      <th></th>\n",
       "      <th></th>\n",
       "      <th></th>\n",
       "    </tr>\n",
       "  </thead>\n",
       "  <tbody>\n",
       "    <tr>\n",
       "      <td>2020-03-09</td>\n",
       "      <td>67.25</td>\n",
       "      <td>62.25</td>\n",
       "      <td>66.00</td>\n",
       "      <td>63.75</td>\n",
       "      <td>98992100.0</td>\n",
       "      <td>63.75</td>\n",
       "    </tr>\n",
       "    <tr>\n",
       "      <td>2020-03-10</td>\n",
       "      <td>67.25</td>\n",
       "      <td>64.50</td>\n",
       "      <td>64.50</td>\n",
       "      <td>66.50</td>\n",
       "      <td>60171700.0</td>\n",
       "      <td>66.50</td>\n",
       "    </tr>\n",
       "    <tr>\n",
       "      <td>2020-03-11</td>\n",
       "      <td>67.00</td>\n",
       "      <td>65.25</td>\n",
       "      <td>66.00</td>\n",
       "      <td>66.00</td>\n",
       "      <td>35776500.0</td>\n",
       "      <td>66.00</td>\n",
       "    </tr>\n",
       "    <tr>\n",
       "      <td>2020-03-12</td>\n",
       "      <td>63.25</td>\n",
       "      <td>61.75</td>\n",
       "      <td>61.75</td>\n",
       "      <td>61.75</td>\n",
       "      <td>109775300.0</td>\n",
       "      <td>61.75</td>\n",
       "    </tr>\n",
       "    <tr>\n",
       "      <td>2020-03-13</td>\n",
       "      <td>63.75</td>\n",
       "      <td>56.25</td>\n",
       "      <td>56.25</td>\n",
       "      <td>61.75</td>\n",
       "      <td>100210200.0</td>\n",
       "      <td>61.75</td>\n",
       "    </tr>\n",
       "  </tbody>\n",
       "</table>\n",
       "</div>"
      ],
      "text/plain": [
       "             High    Low   Open  Close       Volume  Adj Close\n",
       "Date                                                          \n",
       "2020-03-09  67.25  62.25  66.00  63.75   98992100.0      63.75\n",
       "2020-03-10  67.25  64.50  64.50  66.50   60171700.0      66.50\n",
       "2020-03-11  67.00  65.25  66.00  66.00   35776500.0      66.00\n",
       "2020-03-12  63.25  61.75  61.75  61.75  109775300.0      61.75\n",
       "2020-03-13  63.75  56.25  56.25  61.75  100210200.0      61.75"
      ]
     },
     "execution_count": 2,
     "metadata": {},
     "output_type": "execute_result"
    }
   ],
   "source": [
    "# ตรวจสอบข้อมูลว่า ดึงมาได้ถูกต้อง #\n",
    "ST.tail()"
   ]
  },
  {
   "cell_type": "markdown",
   "metadata": {},
   "source": [
    "สูตรหลักในการคำนวณ Logarithmic Rate Return\n",
    "$$Logarithmic Rate Return = log(\\frac{Price_t}{Price_{t-1}})$$"
   ]
  },
  {
   "cell_type": "code",
   "execution_count": 3,
   "metadata": {},
   "outputs": [],
   "source": [
    "ST['log_return'] = np.log(ST['Adj Close'] / ST['Adj Close'].shift(1))"
   ]
  },
  {
   "cell_type": "code",
   "execution_count": 4,
   "metadata": {},
   "outputs": [
    {
     "data": {
      "text/html": [
       "<div>\n",
       "<style scoped>\n",
       "    .dataframe tbody tr th:only-of-type {\n",
       "        vertical-align: middle;\n",
       "    }\n",
       "\n",
       "    .dataframe tbody tr th {\n",
       "        vertical-align: top;\n",
       "    }\n",
       "\n",
       "    .dataframe thead th {\n",
       "        text-align: right;\n",
       "    }\n",
       "</style>\n",
       "<table border=\"1\" class=\"dataframe\">\n",
       "  <thead>\n",
       "    <tr style=\"text-align: right;\">\n",
       "      <th></th>\n",
       "      <th>High</th>\n",
       "      <th>Low</th>\n",
       "      <th>Open</th>\n",
       "      <th>Close</th>\n",
       "      <th>Volume</th>\n",
       "      <th>Adj Close</th>\n",
       "      <th>log_return</th>\n",
       "    </tr>\n",
       "    <tr>\n",
       "      <th>Date</th>\n",
       "      <th></th>\n",
       "      <th></th>\n",
       "      <th></th>\n",
       "      <th></th>\n",
       "      <th></th>\n",
       "      <th></th>\n",
       "      <th></th>\n",
       "    </tr>\n",
       "  </thead>\n",
       "  <tbody>\n",
       "    <tr>\n",
       "      <td>2020-03-09</td>\n",
       "      <td>67.25</td>\n",
       "      <td>62.25</td>\n",
       "      <td>66.00</td>\n",
       "      <td>63.75</td>\n",
       "      <td>98992100.0</td>\n",
       "      <td>63.75</td>\n",
       "      <td>-0.082754</td>\n",
       "    </tr>\n",
       "    <tr>\n",
       "      <td>2020-03-10</td>\n",
       "      <td>67.25</td>\n",
       "      <td>64.50</td>\n",
       "      <td>64.50</td>\n",
       "      <td>66.50</td>\n",
       "      <td>60171700.0</td>\n",
       "      <td>66.50</td>\n",
       "      <td>0.042233</td>\n",
       "    </tr>\n",
       "    <tr>\n",
       "      <td>2020-03-11</td>\n",
       "      <td>67.00</td>\n",
       "      <td>65.25</td>\n",
       "      <td>66.00</td>\n",
       "      <td>66.00</td>\n",
       "      <td>35776500.0</td>\n",
       "      <td>66.00</td>\n",
       "      <td>-0.007547</td>\n",
       "    </tr>\n",
       "    <tr>\n",
       "      <td>2020-03-12</td>\n",
       "      <td>63.25</td>\n",
       "      <td>61.75</td>\n",
       "      <td>61.75</td>\n",
       "      <td>61.75</td>\n",
       "      <td>109775300.0</td>\n",
       "      <td>61.75</td>\n",
       "      <td>-0.066561</td>\n",
       "    </tr>\n",
       "    <tr>\n",
       "      <td>2020-03-13</td>\n",
       "      <td>63.75</td>\n",
       "      <td>56.25</td>\n",
       "      <td>56.25</td>\n",
       "      <td>61.75</td>\n",
       "      <td>100210200.0</td>\n",
       "      <td>61.75</td>\n",
       "      <td>0.000000</td>\n",
       "    </tr>\n",
       "  </tbody>\n",
       "</table>\n",
       "</div>"
      ],
      "text/plain": [
       "             High    Low   Open  Close       Volume  Adj Close  log_return\n",
       "Date                                                                      \n",
       "2020-03-09  67.25  62.25  66.00  63.75   98992100.0      63.75   -0.082754\n",
       "2020-03-10  67.25  64.50  64.50  66.50   60171700.0      66.50    0.042233\n",
       "2020-03-11  67.00  65.25  66.00  66.00   35776500.0      66.00   -0.007547\n",
       "2020-03-12  63.25  61.75  61.75  61.75  109775300.0      61.75   -0.066561\n",
       "2020-03-13  63.75  56.25  56.25  61.75  100210200.0      61.75    0.000000"
      ]
     },
     "execution_count": 4,
     "metadata": {},
     "output_type": "execute_result"
    }
   ],
   "source": [
    "ST.tail()"
   ]
  },
  {
   "cell_type": "code",
   "execution_count": 5,
   "metadata": {},
   "outputs": [
    {
     "data": {
      "text/plain": [
       "<matplotlib.axes._subplots.AxesSubplot at 0x110db24d0>"
      ]
     },
     "execution_count": 5,
     "metadata": {},
     "output_type": "execute_result"
    },
    {
     "data": {
      "image/png": "[encoded data removed]",
      "text/plain": [
       "<Figure size 576x360 with 1 Axes>"
      ]
     },
     "metadata": {
      "needs_background": "light"
     },
     "output_type": "display_data"
    }
   ],
   "source": [
    "ST['log_return'].plot(figsize=(8,5))"
   ]
  },
  {
   "cell_type": "code",
   "execution_count": 6,
   "metadata": {},
   "outputs": [
    {
     "data": {
      "text/plain": [
       "0.0011121115944338112"
      ]
     },
     "execution_count": 6,
     "metadata": {},
     "output_type": "execute_result"
    }
   ],
   "source": [
    "log_return_d = ST['log_return'].mean()\n",
    "log_return_d"
   ]
  },
  {
   "cell_type": "code",
   "execution_count": 8,
   "metadata": {},
   "outputs": [
    {
     "data": {
      "text/plain": [
       "0.27802789860845284"
      ]
     },
     "execution_count": 8,
     "metadata": {},
     "output_type": "execute_result"
    }
   ],
   "source": [
    "log_return_a = log_return_d * 250\n",
    "log_return_a"
   ]
  },
  {
   "cell_type": "code",
   "execution_count": 10,
   "metadata": {},
   "outputs": [
    {
     "name": "stdout",
     "output_type": "stream",
     "text": [
      "27.80279 %\n"
     ]
    }
   ],
   "source": [
    "# Simple Rate Return ต่อ 1 ปี\n",
    "print (str(round(log_return_a * 100, 5)) + ' %')"
   ]
  },
  {
   "cell_type": "code",
   "execution_count": null,
   "metadata": {},
   "outputs": [],
   "source": []
  }
 ],
 "metadata": {
  "kernelspec": {
   "display_name": "Python 3",
   "language": "python",
   "name": "python3"
  },
  "language_info": {
   "codemirror_mode": {
    "name": "ipython",
    "version": 3
   },
   "file_extension": ".py",
   "mimetype": "text/x-python",
   "name": "python",
   "nbconvert_exporter": "python",
   "pygments_lexer": "ipython3",
   "version": "3.7.4"
  }
 },
 "nbformat": 4,
 "nbformat_minor": 2
}
