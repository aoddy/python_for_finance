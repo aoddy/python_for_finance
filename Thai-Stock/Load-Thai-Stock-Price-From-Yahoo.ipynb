{
 "cells": [
  {
   "cell_type": "code",
   "execution_count": 48,
   "metadata": {},
   "outputs": [],
   "source": [
    "import numpy as np\n",
    "#import pandas as pd\n",
    "from pandas_datareader import data as wb\n",
    "import matplotlib.pyplot as plt\n",
    "\n",
    "# ดึงข้อมูลจากเว็บ Yahoo #\n",
    "ST = wb.DataReader('CPALL.BK', data_source='yahoo', start='2007-1-1')"
   ]
  },
  {
   "cell_type": "code",
   "execution_count": 49,
   "metadata": {},
   "outputs": [
    {
     "data": {
      "text/html": [
       "<div>\n",
       "<style scoped>\n",
       "    .dataframe tbody tr th:only-of-type {\n",
       "        vertical-align: middle;\n",
       "    }\n",
       "\n",
       "    .dataframe tbody tr th {\n",
       "        vertical-align: top;\n",
       "    }\n",
       "\n",
       "    .dataframe thead th {\n",
       "        text-align: right;\n",
       "    }\n",
       "</style>\n",
       "<table border=\"1\" class=\"dataframe\">\n",
       "  <thead>\n",
       "    <tr style=\"text-align: right;\">\n",
       "      <th></th>\n",
       "      <th>High</th>\n",
       "      <th>Low</th>\n",
       "      <th>Open</th>\n",
       "      <th>Close</th>\n",
       "      <th>Volume</th>\n",
       "      <th>Adj Close</th>\n",
       "    </tr>\n",
       "    <tr>\n",
       "      <th>Date</th>\n",
       "      <th></th>\n",
       "      <th></th>\n",
       "      <th></th>\n",
       "      <th></th>\n",
       "      <th></th>\n",
       "      <th></th>\n",
       "    </tr>\n",
       "  </thead>\n",
       "  <tbody>\n",
       "    <tr>\n",
       "      <td>2020-03-09</td>\n",
       "      <td>67.25</td>\n",
       "      <td>62.25</td>\n",
       "      <td>66.00</td>\n",
       "      <td>63.75</td>\n",
       "      <td>98992100.0</td>\n",
       "      <td>63.75</td>\n",
       "    </tr>\n",
       "    <tr>\n",
       "      <td>2020-03-10</td>\n",
       "      <td>67.25</td>\n",
       "      <td>64.50</td>\n",
       "      <td>64.50</td>\n",
       "      <td>66.50</td>\n",
       "      <td>60171700.0</td>\n",
       "      <td>66.50</td>\n",
       "    </tr>\n",
       "    <tr>\n",
       "      <td>2020-03-11</td>\n",
       "      <td>67.00</td>\n",
       "      <td>65.25</td>\n",
       "      <td>66.00</td>\n",
       "      <td>66.00</td>\n",
       "      <td>35776500.0</td>\n",
       "      <td>66.00</td>\n",
       "    </tr>\n",
       "    <tr>\n",
       "      <td>2020-03-12</td>\n",
       "      <td>63.25</td>\n",
       "      <td>61.75</td>\n",
       "      <td>61.75</td>\n",
       "      <td>61.75</td>\n",
       "      <td>109775300.0</td>\n",
       "      <td>61.75</td>\n",
       "    </tr>\n",
       "    <tr>\n",
       "      <td>2020-03-13</td>\n",
       "      <td>63.75</td>\n",
       "      <td>56.25</td>\n",
       "      <td>56.25</td>\n",
       "      <td>61.75</td>\n",
       "      <td>100210200.0</td>\n",
       "      <td>61.75</td>\n",
       "    </tr>\n",
       "  </tbody>\n",
       "</table>\n",
       "</div>"
      ],
      "text/plain": [
       "             High    Low   Open  Close       Volume  Adj Close\n",
       "Date                                                          \n",
       "2020-03-09  67.25  62.25  66.00  63.75   98992100.0      63.75\n",
       "2020-03-10  67.25  64.50  64.50  66.50   60171700.0      66.50\n",
       "2020-03-11  67.00  65.25  66.00  66.00   35776500.0      66.00\n",
       "2020-03-12  63.25  61.75  61.75  61.75  109775300.0      61.75\n",
       "2020-03-13  63.75  56.25  56.25  61.75  100210200.0      61.75"
      ]
     },
     "execution_count": 49,
     "metadata": {},
     "output_type": "execute_result"
    }
   ],
   "source": [
    "# ตรวจสอบข้อมูลว่า ดึงมาได้ถูกต้อง #\n",
    "ST.tail()"
   ]
  },
  {
   "cell_type": "markdown",
   "metadata": {},
   "source": [
    "สูตรหลักในการคำนวณ Rate of return \n",
    "$$Rate  of  Return = \\frac{Price_l-Price_s}{Price_s} \n",
    "                    = \\frac{Price_l}{Price_s}-\\frac{Price_s}{Price_s} \n",
    "                    = \\frac{Price_l}{Price_s} - 1$$"
   ]
  },
  {
   "cell_type": "code",
   "execution_count": 53,
   "metadata": {},
   "outputs": [],
   "source": [
    "ST['daily_rate_return'] = ( ST['Adj Close'] / ST['Adj Close'].shift(1)) - 1"
   ]
  },
  {
   "cell_type": "code",
   "execution_count": 54,
   "metadata": {},
   "outputs": [
    {
     "data": {
      "text/html": [
       "<div>\n",
       "<style scoped>\n",
       "    .dataframe tbody tr th:only-of-type {\n",
       "        vertical-align: middle;\n",
       "    }\n",
       "\n",
       "    .dataframe tbody tr th {\n",
       "        vertical-align: top;\n",
       "    }\n",
       "\n",
       "    .dataframe thead th {\n",
       "        text-align: right;\n",
       "    }\n",
       "</style>\n",
       "<table border=\"1\" class=\"dataframe\">\n",
       "  <thead>\n",
       "    <tr style=\"text-align: right;\">\n",
       "      <th></th>\n",
       "      <th>High</th>\n",
       "      <th>Low</th>\n",
       "      <th>Open</th>\n",
       "      <th>Close</th>\n",
       "      <th>Volume</th>\n",
       "      <th>Adj Close</th>\n",
       "      <th>daily_rate_return</th>\n",
       "    </tr>\n",
       "    <tr>\n",
       "      <th>Date</th>\n",
       "      <th></th>\n",
       "      <th></th>\n",
       "      <th></th>\n",
       "      <th></th>\n",
       "      <th></th>\n",
       "      <th></th>\n",
       "      <th></th>\n",
       "    </tr>\n",
       "  </thead>\n",
       "  <tbody>\n",
       "    <tr>\n",
       "      <td>2020-03-09</td>\n",
       "      <td>67.25</td>\n",
       "      <td>62.25</td>\n",
       "      <td>66.00</td>\n",
       "      <td>63.75</td>\n",
       "      <td>98992100.0</td>\n",
       "      <td>63.75</td>\n",
       "      <td>-0.079422</td>\n",
       "    </tr>\n",
       "    <tr>\n",
       "      <td>2020-03-10</td>\n",
       "      <td>67.25</td>\n",
       "      <td>64.50</td>\n",
       "      <td>64.50</td>\n",
       "      <td>66.50</td>\n",
       "      <td>60171700.0</td>\n",
       "      <td>66.50</td>\n",
       "      <td>0.043137</td>\n",
       "    </tr>\n",
       "    <tr>\n",
       "      <td>2020-03-11</td>\n",
       "      <td>67.00</td>\n",
       "      <td>65.25</td>\n",
       "      <td>66.00</td>\n",
       "      <td>66.00</td>\n",
       "      <td>35776500.0</td>\n",
       "      <td>66.00</td>\n",
       "      <td>-0.007519</td>\n",
       "    </tr>\n",
       "    <tr>\n",
       "      <td>2020-03-12</td>\n",
       "      <td>63.25</td>\n",
       "      <td>61.75</td>\n",
       "      <td>61.75</td>\n",
       "      <td>61.75</td>\n",
       "      <td>109775300.0</td>\n",
       "      <td>61.75</td>\n",
       "      <td>-0.064394</td>\n",
       "    </tr>\n",
       "    <tr>\n",
       "      <td>2020-03-13</td>\n",
       "      <td>63.75</td>\n",
       "      <td>56.25</td>\n",
       "      <td>56.25</td>\n",
       "      <td>61.75</td>\n",
       "      <td>100210200.0</td>\n",
       "      <td>61.75</td>\n",
       "      <td>0.000000</td>\n",
       "    </tr>\n",
       "  </tbody>\n",
       "</table>\n",
       "</div>"
      ],
      "text/plain": [
       "             High    Low   Open  Close       Volume  Adj Close  \\\n",
       "Date                                                             \n",
       "2020-03-09  67.25  62.25  66.00  63.75   98992100.0      63.75   \n",
       "2020-03-10  67.25  64.50  64.50  66.50   60171700.0      66.50   \n",
       "2020-03-11  67.00  65.25  66.00  66.00   35776500.0      66.00   \n",
       "2020-03-12  63.25  61.75  61.75  61.75  109775300.0      61.75   \n",
       "2020-03-13  63.75  56.25  56.25  61.75  100210200.0      61.75   \n",
       "\n",
       "            daily_rate_return  \n",
       "Date                           \n",
       "2020-03-09          -0.079422  \n",
       "2020-03-10           0.043137  \n",
       "2020-03-11          -0.007519  \n",
       "2020-03-12          -0.064394  \n",
       "2020-03-13           0.000000  "
      ]
     },
     "execution_count": 54,
     "metadata": {},
     "output_type": "execute_result"
    }
   ],
   "source": [
    "ST.tail()"
   ]
  },
  {
   "cell_type": "code",
   "execution_count": 55,
   "metadata": {},
   "outputs": [
    {
     "data": {
      "text/plain": [
       "<matplotlib.axes._subplots.AxesSubplot at 0x122615890>"
      ]
     },
     "execution_count": 55,
     "metadata": {},
     "output_type": "execute_result"
    },
    {
     "data": {
      "image/png": "[encoded data removed]",
      "text/plain": [
       "<Figure size 576x360 with 1 Axes>"
      ]
     },
     "metadata": {
      "needs_background": "light"
     },
     "output_type": "display_data"
    }
   ],
   "source": [
    "ST['daily_rate_return'].plot(figsize=(8,5))"
   ]
  },
  {
   "cell_type": "code",
   "execution_count": 57,
   "metadata": {},
   "outputs": [
    {
     "data": {
      "text/plain": [
       "0.0012917674252375202"
      ]
     },
     "execution_count": 57,
     "metadata": {},
     "output_type": "execute_result"
    }
   ],
   "source": [
    "# หาค่าเฉลี่ย #\n",
    "avg_returns_d = ST['daily_rate_return'].mean()\n",
    "\n",
    "\n",
    "# เอาค่าเฉลี่ยมาคูณ 250 วัน คือ จำนวนวันทั้งปี\n",
    "avg_returns_y = avg_returns_d * 250"
   ]
  },
  {
   "cell_type": "code",
   "execution_count": 27,
   "metadata": {},
   "outputs": [
    {
     "name": "stdout",
     "output_type": "stream",
     "text": [
      "23.1053 %\n"
     ]
    }
   ],
   "source": [
    "# Simple Rate Return ต่อ 1 ปี\n",
    "print (str(round(avg_returns_y * 100, 5)) + ' %')"
   ]
  }
 ],
 "metadata": {
  "kernelspec": {
   "display_name": "Python 3",
   "language": "python",
   "name": "python3"
  },
  "language_info": {
   "codemirror_mode": {
    "name": "ipython",
    "version": 3
   },
   "file_extension": ".py",
   "mimetype": "text/x-python",
   "name": "python",
   "nbconvert_exporter": "python",
   "pygments_lexer": "ipython3",
   "version": "3.7.4"
  }
 },
 "nbformat": 4,
 "nbformat_minor": 2
}
